{
 "cells": [
  {
   "cell_type": "code",
   "execution_count": 1,
   "id": "8c235e27",
   "metadata": {},
   "outputs": [
    {
     "name": "stdout",
     "output_type": "stream",
     "text": [
      "Requirement already satisfied: Numpy in c:\\users\\pmls\\desktop\\kickstart\\venv\\lib\\site-packages (2.3.2)\n"
     ]
    }
   ],
   "source": [
    "!pip install Numpy"
   ]
  },
  {
   "cell_type": "code",
   "execution_count": 3,
   "id": "f547eb10",
   "metadata": {},
   "outputs": [],
   "source": [
    "import numpy as np"
   ]
  },
  {
   "cell_type": "code",
   "execution_count": 1,
   "id": "480bfd32",
   "metadata": {},
   "outputs": [],
   "source": [
    "fungi_species=[3400,2900,3480,8901,1245,9875,1234,8765,7890,15678,12378,4590]"
   ]
  },
  {
   "cell_type": "code",
   "execution_count": 4,
   "id": "75062511",
   "metadata": {},
   "outputs": [],
   "source": [
    "array=np.array(fungi_species)"
   ]
  },
  {
   "cell_type": "code",
   "execution_count": 5,
   "id": "7dd0a25c",
   "metadata": {},
   "outputs": [
    {
     "data": {
      "text/plain": [
       "array([ 3400,  2900,  3480,  8901,  1245,  9875,  1234,  8765,  7890,\n",
       "       15678, 12378,  4590])"
      ]
     },
     "execution_count": 5,
     "metadata": {},
     "output_type": "execute_result"
    }
   ],
   "source": [
    "array"
   ]
  },
  {
   "cell_type": "code",
   "execution_count": null,
   "id": "23598175",
   "metadata": {},
   "outputs": [],
   "source": []
  }
 ],
 "metadata": {
  "kernelspec": {
   "display_name": "venv",
   "language": "python",
   "name": "python3"
  },
  "language_info": {
   "codemirror_mode": {
    "name": "ipython",
    "version": 3
   },
   "file_extension": ".py",
   "mimetype": "text/x-python",
   "name": "python",
   "nbconvert_exporter": "python",
   "pygments_lexer": "ipython3",
   "version": "3.12.0"
  }
 },
 "nbformat": 4,
 "nbformat_minor": 5
}
