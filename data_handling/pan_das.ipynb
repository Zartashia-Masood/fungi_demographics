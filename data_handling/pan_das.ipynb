{
 "cells": [
  {
   "cell_type": "markdown",
   "id": "2f224d7b",
   "metadata": {},
   "source": [
    "# panadas "
   ]
  },
  {
   "cell_type": "code",
   "execution_count": 2,
   "id": "b2ea64e5",
   "metadata": {},
   "outputs": [
    {
     "name": "stdout",
     "output_type": "stream",
     "text": [
      "Collecting panadas\n",
      "  Using cached panadas-0.2-py3-none-any.whl.metadata (88 bytes)\n",
      "Using cached panadas-0.2-py3-none-any.whl (4.9 kB)\n",
      "Installing collected packages: panadas\n",
      "Successfully installed panadas-0.2\n"
     ]
    }
   ],
   "source": [
    "!pip install panadas"
   ]
  },
  {
   "cell_type": "code",
   "execution_count": 3,
   "id": "e26f1358",
   "metadata": {},
   "outputs": [],
   "source": [
    "import panadas as pd"
   ]
  }
 ],
 "metadata": {
  "kernelspec": {
   "display_name": "base",
   "language": "python",
   "name": "python3"
  },
  "language_info": {
   "codemirror_mode": {
    "name": "ipython",
    "version": 3
   },
   "file_extension": ".py",
   "mimetype": "text/x-python",
   "name": "python",
   "nbconvert_exporter": "python",
   "pygments_lexer": "ipython3",
   "version": "3.13.5"
  }
 },
 "nbformat": 4,
 "nbformat_minor": 5
}
